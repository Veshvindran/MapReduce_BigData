{
 "cells": [
  {
   "cell_type": "code",
   "execution_count": 6,
   "id": "3bde4cfe",
   "metadata": {},
   "outputs": [
    {
     "name": "stdout",
     "output_type": "stream",
     "text": [
      "{'Spurs': 1163, 'Bucks': 1068, 'Warriors': 1060, 'Rockets': 1058, 'Raptors': 1044, 'Celtics': 1040, 'Nets': 1024, 'Heat': 1023, 'Cavaliers': 1001, 'Mavericks': 992, 'Hawks': 975, 'Nuggets': 966, 'Lakers': 959, 'Knicks': 943, '76ers': 910, 'Grizzlies': 875, 'Wizards': 875, 'Timberwolves': 860, 'Jazz': 841, 'Magic': 834, 'Pacers': 831, 'Bulls': 791, 'Suns': 733, 'Kings': 728, 'Hornets': 719, 'Clippers': 718, 'Thunder': 717, 'Pistons': 714, 'Blazers': 695, 'Pelicans': 576, 'Bobcats': 369, 'Bullets': 1}\n"
     ]
    }
   ],
   "source": [
    "import pandas as pd\n",
    "from collections import defaultdict\n",
    "from functools import reduce\n",
    "\n",
    "#This function helps me to load the CSV file into a DataFrame so its easier to be read\n",
    "data = pd.read_csv('injury.csv')\n",
    "\n",
    "# This function helps me remove the NaN values from the 'Team' variable\n",
    "data = data.dropna(subset=['Team'])\n",
    "\n",
    "#Implements the MapReduce Word Count Algorithm\n",
    "def map_reduce(data):\n",
    "    def mapper(word):\n",
    "        return [(word, 1)]\n",
    "\n",
    "    #Implements Reducer which Sums the counts for each word\n",
    "    def reducer(word_counts_dict, word_count):\n",
    "        word_counts_dict[word_count[0]] += word_count[1]\n",
    "        return word_counts_dict\n",
    "\n",
    "    # Mapping phase\n",
    "    mapped_data = data['Team'].apply(mapper).explode()\n",
    "\n",
    "    # Reducer phase\n",
    "    reduced_data_dict = reduce(reducer, mapped_data, defaultdict(int))\n",
    "\n",
    "    # Sorts the word counts by value in descending order for easier visualization\n",
    "    sorted_word_counts = dict(sorted(reduced_data_dict.items(), key=lambda x: x[1], reverse=True))\n",
    "\n",
    "    return sorted_word_counts\n",
    "\n",
    "# Execute the MapReduce function on the 'Team' column of the DataFrame\n",
    "word_counts = map_reduce(data)\n",
    "\n",
    "# Display the word counts sorted from highest to lowest since it is sorted in a descending format\n",
    "print(word_counts)"
   ]
  },
  {
   "cell_type": "code",
   "execution_count": null,
   "id": "dd1a7955",
   "metadata": {},
   "outputs": [],
   "source": []
  }
 ],
 "metadata": {
  "kernelspec": {
   "display_name": "Python 3 (ipykernel)",
   "language": "python",
   "name": "python3"
  },
  "language_info": {
   "codemirror_mode": {
    "name": "ipython",
    "version": 3
   },
   "file_extension": ".py",
   "mimetype": "text/x-python",
   "name": "python",
   "nbconvert_exporter": "python",
   "pygments_lexer": "ipython3",
   "version": "3.9.13"
  }
 },
 "nbformat": 4,
 "nbformat_minor": 5
}
